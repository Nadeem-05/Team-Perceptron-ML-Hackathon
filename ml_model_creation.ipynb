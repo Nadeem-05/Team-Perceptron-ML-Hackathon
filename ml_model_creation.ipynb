{
 "cells": [
  {
   "cell_type": "code",
   "execution_count": 1,
   "metadata": {},
   "outputs": [],
   "source": [
    "#loading\n",
    "import pandas as pd\n",
    "import numpy as np\n",
    "#preprocessing \n",
    "from sklearn.calibration import LabelEncoder\n",
    "from collections import Counter\n",
    "from imblearn.over_sampling import SMOTE\n",
    "# Classification \n",
    "from sklearn.model_selection import train_test_split\n",
    "from sklearn.svm import SVC\n",
    "from sklearn.ensemble import RandomForestClassifier\n",
    "from xgboost import XGBClassifier\n",
    "import pickle"
   ]
  },
  {
   "cell_type": "code",
   "execution_count": 3,
   "metadata": {},
   "outputs": [
    {
     "name": "stdout",
     "output_type": "stream",
     "text": [
      "model completed\n"
     ]
    }
   ],
   "source": [
    "\n",
    "data = pd.read_csv(\"./dataset/TNCities.csv\")\n",
    "df1 = data.copy()\n",
    "\n",
    "encoder = LabelEncoder()\n",
    "df1[\"city_encoded\"] = encoder.fit_transform(df1[\"city\"])\n",
    "categorical_attributes = list(df1.select_dtypes(include=['object']).columns)\n",
    "le=LabelEncoder()\n",
    "df1['aqi']=le.fit_transform(df1['aqi'].astype(str))\n",
    "\n",
    "y = df1[\"aqi\"]\n",
    "x = df1[['co','no','no2','o3','so2','pm2_5','pm10','nh3','city_encoded']]\n",
    "X_train, X_test, y_train, y_test = train_test_split(x, y, test_size = 0.2, random_state = 0)\n",
    "\n",
    "oversample = SMOTE()\n",
    "X_train,y_train = oversample.fit_resample(X_train,y_train)\n",
    "\n",
    "#RFC\n",
    "rf = RandomForestClassifier(n_estimators=20, random_state=25)\n",
    "rf.fit(X_train, y_train)\n",
    "\n",
    "pickle.dump(rf,open(\"airquality_model.pkl\",\"wb\"))\n",
    "print(\"model completed\")"
   ]
  }
 ],
 "metadata": {
  "kernelspec": {
   "display_name": "Python 3",
   "language": "python",
   "name": "python3"
  },
  "language_info": {
   "codemirror_mode": {
    "name": "ipython",
    "version": 3
   },
   "file_extension": ".py",
   "mimetype": "text/x-python",
   "name": "python",
   "nbconvert_exporter": "python",
   "pygments_lexer": "ipython3",
   "version": "3.10.0"
  },
  "orig_nbformat": 4
 },
 "nbformat": 4,
 "nbformat_minor": 2
}
